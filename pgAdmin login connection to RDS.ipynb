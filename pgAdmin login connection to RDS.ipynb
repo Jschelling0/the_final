{
 "cells": [
  {
   "cell_type": "code",
   "execution_count": 1,
   "id": "8d8bd31d",
   "metadata": {},
   "outputs": [],
   "source": [
    "# Configure settings for RDS\n",
    "mode = \"append\"\n",
    "jdbc_url=\"jdbc:postgresql://climatechangefinal2022.cbxqvxmsu7y4.us-west-1.rds.amazonaws.com\"\n",
    "config = {\"user\":\"postgres\", \n",
    "          \"password\": \"Emissions\"}"
   ]
  },
  {
   "cell_type": "code",
   "execution_count": null,
   "id": "72253ff5",
   "metadata": {},
   "outputs": [],
   "source": [
    "# URLS for AWS s3 buckets\n",
    "\n",
    "url=https://azclimateemissionsfinals2022.s3.us-west-1.amazonaws.com/Annual+Average+AZ+Temps+1970-2022.csv\n",
    "    s3://azclimateemissionsfinals2022/Annual Average AZ Temps 1970-2022.csv\n",
    "    \n",
    "url=https://azclimateemissionsfinals2022.s3.us-west-1.amazonaws.com/CO2+Emissions+from+Fossil+Fuels-+Fuel+Total.csv\n",
    "    s3://azclimateemissionsfinals2022/CO2 Emissions from Fossil Fuels- Fuel Total.csv"
   ]
  }
 ],
 "metadata": {
  "kernelspec": {
   "display_name": "Python 3 (ipykernel)",
   "language": "python",
   "name": "python3"
  },
  "language_info": {
   "codemirror_mode": {
    "name": "ipython",
    "version": 3
   },
   "file_extension": ".py",
   "mimetype": "text/x-python",
   "name": "python",
   "nbconvert_exporter": "python",
   "pygments_lexer": "ipython3",
   "version": "3.9.7"
  }
 },
 "nbformat": 4,
 "nbformat_minor": 5
}
